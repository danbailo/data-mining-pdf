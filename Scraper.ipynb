{
 "cells": [
  {
   "cell_type": "code",
   "execution_count": 1,
   "metadata": {},
   "outputs": [],
   "source": [
    "import textract\n",
    "import re"
   ]
  },
  {
   "cell_type": "code",
   "execution_count": 2,
   "metadata": {},
   "outputs": [],
   "source": [
    "text = textract.process(\"exemplo_extrarcao_pdf.pdf\")\n",
    "text = text.decode(\"utf-8\").split(\"\\n\")"
   ]
  },
  {
   "cell_type": "code",
   "execution_count": 3,
   "metadata": {},
   "outputs": [],
   "source": [
    "calculo_pattern = re.compile(r\"(Identiﬁque o cálculo a ser armazenado*)\")\n",
    "plano_pattern = re.compile(r\"Plano: (.*)\")\n",
    "regiao_pattern = re.compile(r\"Região: (.*)\")\n",
    "cifrao_pattern = re.compile(r\"(R\\$$)\")\n",
    "adiante_pattern = re.compile(r\"(adiante)\")\n",
    "valor_pattern = re.compile(r\"R\\$.*\")"
   ]
  },
  {
   "cell_type": "code",
   "execution_count": 4,
   "metadata": {},
   "outputs": [],
   "source": [
    "for i in text:\n",
    "    if i == '': text.remove(i)\n",
    "for i in text:\n",
    "    if cifrao_pattern.match(i): text.remove(i)\n",
    "for i in text:\n",
    "    if adiante_pattern.match(i): text.remove(i)             "
   ]
  },
  {
   "cell_type": "code",
   "execution_count": 13,
   "metadata": {},
   "outputs": [],
   "source": [
    "planos = []\n",
    "regioes = []\n",
    "saude_valores = []\n",
    "for i in range(len(text)):    \n",
    "    if calculo_pattern.match(text[i]):\n",
    "        calculo = text[i+1]\n",
    "    if plano_pattern.match(text[i]):\n",
    "        planos.append(plano_pattern.match(text[i])[1])\n",
    "    if regiao_pattern.match(text[i]):\n",
    "        regioes.append(regiao_pattern.match(text[i])[1])\n",
    "    if text[i]==\"anos\":\n",
    "        j = i+1\n",
    "        while True:\n",
    "            values = []\n",
    "            if text[j]==\"Total\":\n",
    "                valores = text[i+1:j]\n",
    "                k = 0\n",
    "                while True:\n",
    "                    try:\n",
    "                        if valor_pattern.match(valores[k]):\n",
    "                            values.append(valores[k])                            \n",
    "                        k += 9\n",
    "                    except Exception:\n",
    "                        saude_valores.append(values)\n",
    "                        break\n",
    "                break\n",
    "            j += 1\n",
    "        "
   ]
  },
  {
   "cell_type": "code",
   "execution_count": 14,
   "metadata": {},
   "outputs": [
    {
     "data": {
      "text/plain": [
       "['TNOE', 'TNOQ']"
      ]
     },
     "execution_count": 14,
     "metadata": {},
     "output_type": "execute_result"
    }
   ],
   "source": [
    "planos"
   ]
  },
  {
   "cell_type": "code",
   "execution_count": 15,
   "metadata": {},
   "outputs": [
    {
     "data": {
      "text/plain": [
       "['São Paulo Capital', 'São Paulo Capital']"
      ]
     },
     "execution_count": 15,
     "metadata": {},
     "output_type": "execute_result"
    }
   ],
   "source": [
    "regioes"
   ]
  },
  {
   "cell_type": "code",
   "execution_count": 16,
   "metadata": {},
   "outputs": [
    {
     "data": {
      "text/plain": [
       "[['R$ 248,61',\n",
       "  'R$ 293,36',\n",
       "  'R$ 354,96',\n",
       "  'R$ 425,96',\n",
       "  'R$ 485,59',\n",
       "  'R$ 500,16',\n",
       "  'R$ 608,97',\n",
       "  'R$ 716,27',\n",
       "  'R$ 852,37',\n",
       "  'R$ 1.491,65'],\n",
       " ['R$ 276,23',\n",
       "  'R$ 325,96',\n",
       "  'R$ 394,41',\n",
       "  'R$ 473,29',\n",
       "  'R$ 539,55',\n",
       "  'R$ 555,74',\n",
       "  'R$ 676,63',\n",
       "  'R$ 795,86',\n",
       "  'R$ 947,07',\n",
       "  'R$ 1.657,38']]"
      ]
     },
     "execution_count": 16,
     "metadata": {},
     "output_type": "execute_result"
    }
   ],
   "source": [
    "saude_valores"
   ]
  },
  {
   "cell_type": "code",
   "execution_count": null,
   "metadata": {},
   "outputs": [],
   "source": []
  }
 ],
 "metadata": {
  "kernelspec": {
   "display_name": "Python 3",
   "language": "python",
   "name": "python3"
  },
  "language_info": {
   "codemirror_mode": {
    "name": "ipython",
    "version": 3
   },
   "file_extension": ".py",
   "mimetype": "text/x-python",
   "name": "python",
   "nbconvert_exporter": "python",
   "pygments_lexer": "ipython3",
   "version": "3.7.3"
  }
 },
 "nbformat": 4,
 "nbformat_minor": 4
}
